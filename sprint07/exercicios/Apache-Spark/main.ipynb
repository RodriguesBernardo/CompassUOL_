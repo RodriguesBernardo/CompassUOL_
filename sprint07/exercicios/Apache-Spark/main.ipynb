{
 "cells": [
  {
   "cell_type": "code",
   "execution_count": null,
   "metadata": {},
   "outputs": [],
   "source": [
    "from pyspark import SparkContext\n",
    "\n",
    "sc = SparkContext.getOrCreate()\n",
    "arquivo = sc.textFile(\"/home/jovyan/README.md\")\n",
    "\n",
    "palavras = arquivo.flatMap(lambda line: line.split(\" \"))\n",
    "\n",
    "total_palavras = palavras.count()\n",
    "\n",
    "paresPalavras = palavras.map(lambda word: (word, 1))\n",
    "\n",
    "contador = paresPalavras.reduceByKey(lambda a, b: a + b)\n",
    "\n",
    "print(f\"O número total de palavras é: {total_palavras}\")\n",
    "print(\"---------------------------------------------\")\n",
    "resultado = contador.collect()\n",
    "\n",
    "for palavra, contagem in resultado:\n",
    "    print(f\"{palavra}: {contagem}\")\n"
   ]
  }
 ],
 "metadata": {
  "language_info": {
   "name": "python"
  }
 },
 "nbformat": 4,
 "nbformat_minor": 2
}
